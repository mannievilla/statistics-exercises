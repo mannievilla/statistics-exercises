{
 "cells": [
  {
   "cell_type": "code",
   "execution_count": 1,
   "id": "23f0c659",
   "metadata": {},
   "outputs": [],
   "source": [
    "import numpy as np\n",
    "import pandas as pd\n",
    "\n",
    "np.random.seed(123)"
   ]
  },
  {
   "cell_type": "markdown",
   "id": "031b9520",
   "metadata": {},
   "source": [
    "### 1. How likely is it that you roll doubles when rolling two dice?"
   ]
  },
  {
   "cell_type": "code",
   "execution_count": 1,
   "id": "e0e44116",
   "metadata": {},
   "outputs": [
    {
     "name": "stdout",
     "output_type": "stream",
     "text": [
      "[(1, 1), (2, 2), (3, 3), (4, 4), (5, 5), (6, 6)]\n",
      "6\n",
      "[(1, 1), (1, 2), (1, 3), (1, 4), (1, 5), (1, 6), (2, 1), (2, 2), (2, 3), (2, 4), (2, 5), (2, 6), (3, 1), (3, 2), (3, 3), (3, 4), (3, 5), (3, 6), (4, 1), (4, 2), (4, 3), (4, 4), (4, 5), (4, 6), (5, 1), (5, 2), (5, 3), (5, 4), (5, 5), (5, 6), (6, 1), (6, 2), (6, 3), (6, 4), (6, 5), (6, 6)]\n",
      "36\n",
      "0.16666666666666666\n"
     ]
    }
   ],
   "source": [
    "\n",
    "outcomes1 = [1,2,3,4,5,6]\n",
    "outcomes2 = [1,2,3,4,5,6]\n",
    "\n",
    "\n",
    "dbl_rolls = []\n",
    "for (x,y) in zip(outcomes1, outcomes2):\n",
    "    dbl_rolls.append((x,y))\n",
    "print(dbl_rolls)\n",
    "print(len(dbl_rolls))\n",
    "\n",
    "rolls = []  \n",
    "for i in outcomes1:\n",
    "    for j in outcomes2:\n",
    "        rolls.append((i,j))\n",
    "print(rolls)\n",
    "print(len(rolls))\n",
    "\n",
    "print(len(dbl_rolls)/len(rolls))\n"
   ]
  },
  {
   "cell_type": "code",
   "execution_count": 154,
   "id": "5e03df37",
   "metadata": {},
   "outputs": [
    {
     "data": {
      "text/plain": [
       "0.1655"
      ]
     },
     "execution_count": 154,
     "metadata": {},
     "output_type": "execute_result"
    }
   ],
   "source": [
    "n_trials = 10_000 \n",
    "\n",
    "n_dice = 2\n",
    "\n",
    "outcome = [1,2,3,4,5,6]\n",
    "\n",
    "rolls = np.random.choice(outcome, size = (n_trials, n_dice))\n",
    "\n",
    "rolls[:,0] == rolls[:,1]\n",
    "\n",
    "(rolls[:,0] == rolls[:,1]).mean()"
   ]
  },
  {
   "cell_type": "markdown",
   "id": "93d7e031",
   "metadata": {},
   "source": [
    "### 2. If you flip 8 coins, what is the probability of getting exactly 3 heads? "
   ]
  },
  {
   "cell_type": "code",
   "execution_count": 12,
   "id": "f52405cd",
   "metadata": {},
   "outputs": [
    {
     "data": {
      "text/plain": [
       "0.21934"
      ]
     },
     "execution_count": 12,
     "metadata": {},
     "output_type": "execute_result"
    }
   ],
   "source": [
    "#outcomes\n",
    "outcomes = ['H','T']\n",
    "\n",
    "#simulations & trials\n",
    "n_trials = 8 #8 coin flips\n",
    "n_simulations = 100_000 #how many times we're flipping the 3 coins\n",
    "#set up number of simulations and number of coin flips\n",
    "coin_flips = np.random.choice(outcomes, (n_simulations, n_trials))\n",
    "coin_flips                #(outcomes=heads,tails.  (sims #of rows, 3coins #of columns))\n",
    "#be sure to sum across each simulation aka across each row (axis=1)\n",
    "head_counts = (coin_flips == 'H').sum(axis=1)\n",
    "(head_counts == 3).mean()"
   ]
  },
  {
   "cell_type": "markdown",
   "id": "ffd1ccc7",
   "metadata": {},
   "source": [
    "What is the probability of getting more than 3 heads?"
   ]
  },
  {
   "cell_type": "code",
   "execution_count": 13,
   "id": "83b972f4",
   "metadata": {},
   "outputs": [
    {
     "data": {
      "text/plain": [
       "0.63469"
      ]
     },
     "execution_count": 13,
     "metadata": {},
     "output_type": "execute_result"
    }
   ],
   "source": [
    "outcomes = ['H','T']\n",
    "\n",
    "#simulations & trials\n",
    "n_trials = 8 #8 coin flips\n",
    "n_simulations = 100_000 #how many times we're flipping the 3 coins\n",
    "#set up number of simulations and number of coin flips\n",
    "coin_flips = np.random.choice(outcomes, (n_simulations, n_trials))\n",
    "coin_flips                #(outcomes=heads,tails.  (sims #of rows, 3coins #of columns))\n",
    "#be sure to sum across each simulation aka across each row (axis=1)\n",
    "head_counts = (coin_flips == 'H').sum(axis=1)\n",
    "(head_counts > 3).mean()"
   ]
  },
  {
   "cell_type": "markdown",
   "id": "8d8c1d08",
   "metadata": {},
   "source": [
    "### 3. There are approximitely 3 web development cohorts for every 1 data science cohort at Codeup. Assuming that Codeup randomly selects an alumni to put on a billboard, what are the odds that the two billboards I drive past both have data science students on them?"
   ]
  },
  {
   "cell_type": "code",
   "execution_count": 19,
   "id": "2fbcd510",
   "metadata": {},
   "outputs": [
    {
     "data": {
      "text/plain": [
       "0.06166"
      ]
     },
     "execution_count": 19,
     "metadata": {},
     "output_type": "execute_result"
    }
   ],
   "source": [
    "#outcomes\n",
    "outcomes3 = ['W','W','W','D']\n",
    "\n",
    "#simulations & trials\n",
    "\n",
    "#simulations & trials\n",
    "n_trials = 2 #8 coin flips\n",
    "n_simulations = 100_000 #how many times we're flipping the 3 coins\n",
    "#set up number of simulations and number of coin flips\n",
    "cohort_choices = np.random.choice(outcomes, (n_simulations, n_trials))\n",
    "cohort_choices                #(outcomes=heads,tails.  (sims #of rows, 3coins #of columns))\n",
    "#be sure to sum across each simulation aka across each row (axis=1)\n",
    "ds_counts = (cohort_choices == 'D').sum(axis=1)\n",
    "(ds_counts == 2).mean()"
   ]
  },
  {
   "cell_type": "code",
   "execution_count": 157,
   "id": "9e994b0e",
   "metadata": {},
   "outputs": [],
   "source": [
    "p_wdev = 0.75\n",
    "p_ds = 0.25\n",
    "\n",
    "n_trials = 10_000\n",
    "n_billboards = 2\n"
   ]
  },
  {
   "cell_type": "code",
   "execution_count": 159,
   "id": "5400e51e",
   "metadata": {},
   "outputs": [],
   "source": [
    "boards = np.random.random((n_trials, n_billboards))"
   ]
  },
  {
   "cell_type": "code",
   "execution_count": 160,
   "id": "7a237b98",
   "metadata": {},
   "outputs": [
    {
     "data": {
      "text/plain": [
       "array([[False, False],\n",
       "       [ True,  True],\n",
       "       [False, False],\n",
       "       ...,\n",
       "       [ True, False],\n",
       "       [False,  True],\n",
       "       [False,  True]])"
      ]
     },
     "execution_count": 160,
     "metadata": {},
     "output_type": "execute_result"
    }
   ],
   "source": [
    "DS_billboards = boards < p_ds\n",
    "DS_billboards"
   ]
  },
  {
   "cell_type": "code",
   "execution_count": null,
   "id": "77aea8ff",
   "metadata": {},
   "outputs": [],
   "source": [
    "DS_billboards()"
   ]
  },
  {
   "cell_type": "code",
   "execution_count": null,
   "id": "e7bfe4e0",
   "metadata": {},
   "outputs": [],
   "source": []
  },
  {
   "cell_type": "code",
   "execution_count": null,
   "id": "3d84fa8a",
   "metadata": {},
   "outputs": [],
   "source": [
    "DS = 1/4\n",
    "WD = 3/4\n",
    "outcomes = [DS, WD]"
   ]
  },
  {
   "cell_type": "markdown",
   "id": "d0f9eeca",
   "metadata": {},
   "source": [
    "### 4. Codeup students buy, on average, 3 poptart packages with a standard deviation of 1.5 a day from the snack vending machine. If on monday the machine is restocked with 17 poptart packages, how likely is it that I will be able to buy some poptarts on Friday afternoon?\n",
    "(Remember, if you have mean and standard deviation, use the np.random.normal) You'll need to make a judgement call on how to handle some of your values"
   ]
  },
  {
   "cell_type": "code",
   "execution_count": 18,
   "id": "1da9e43d",
   "metadata": {},
   "outputs": [
    {
     "data": {
      "text/plain": [
       "0.62081"
      ]
     },
     "execution_count": 18,
     "metadata": {},
     "output_type": "execute_result"
    }
   ],
   "source": [
    "outcomes = np.random.normal(mean, std_dev, 100000)\n",
    "\n",
    "n_trials = 5\n",
    "n_simulations = 100000\n",
    "\n",
    "days = np.random.choice(outcomes, (n_simulations, n_trials))\n",
    "days                #(outcomes=heads,tails.  (sims #of rows, 3coins #of columns))\n",
    "#be sure to sum across each simulation aka across each row (axis=1)\n",
    "pop_counts = (days).sum(axis=1)\n",
    "(pop_counts <= 16).mean()"
   ]
  },
  {
   "cell_type": "markdown",
   "id": "510c75bd",
   "metadata": {},
   "source": [
    "### 5. Compare Heights\n",
    "\n",
    "* Men have an average height of 178 cm and standard deviation of 8cm.\n",
    "* Women have a mean of 170, sd = 6cm.\n",
    "* Since you have means and standard deviations, you can use np.random.normal to generate observations.\n",
    "* If a man and woman are chosen at random, what is the likelihood the woman is taller than the man?"
   ]
  },
  {
   "cell_type": "code",
   "execution_count": 162,
   "id": "bac87725",
   "metadata": {},
   "outputs": [
    {
     "data": {
      "text/plain": [
       "0.25073"
      ]
     },
     "execution_count": 162,
     "metadata": {},
     "output_type": "execute_result"
    }
   ],
   "source": [
    "male = np.random.normal(178, 8)\n",
    "female = np.random.normal(170, 6) \n",
    "outcomes = (male, female)\n",
    "\n",
    "n_trials = 2\n",
    "n_simulations = 100000\n",
    "\n",
    "\n",
    "ma_fem_arr = np.random.choice(outcomes, (n_simulations, n_trials))\n",
    "ma_fem_arr\n",
    "\n",
    "\n",
    "fem_grtr_male = np.all(np.diff(ma_fem_arr) < 0, axis=1)\n",
    "\n",
    "(fem_grtr_male).mean()\n"
   ]
  },
  {
   "cell_type": "markdown",
   "id": "dadf4275",
   "metadata": {},
   "source": [
    "### 6. When installing anaconda on a student's computer, there's a 1 in 250 chance that the download is corrupted and the installation fails. What are the odds that after having 50 students download anaconda, no one has an installation issue? "
   ]
  },
  {
   "cell_type": "code",
   "execution_count": 109,
   "id": "2e15c673",
   "metadata": {},
   "outputs": [
    {
     "data": {
      "text/plain": [
       "0.004"
      ]
     },
     "execution_count": 109,
     "metadata": {},
     "output_type": "execute_result"
    }
   ],
   "source": [
    "1/250"
   ]
  },
  {
   "cell_type": "code",
   "execution_count": 131,
   "id": "c8cfb9bb",
   "metadata": {},
   "outputs": [
    {
     "data": {
      "text/plain": [
       "0.81854"
      ]
     },
     "execution_count": 131,
     "metadata": {},
     "output_type": "execute_result"
    }
   ],
   "source": [
    "outcomes = tuple(range(1, 251))\n",
    "\n",
    "n_trials = 50\n",
    "n_simulations = 100_000\n",
    "\n",
    "\n",
    "installs = np.random.choice(outcomes, (n_simulations, n_trials))\n",
    "installs\n",
    "\n",
    "\n",
    "issues = (installs == 1).sum(axis=1)\n",
    "(issues < 1).mean()"
   ]
  },
  {
   "cell_type": "code",
   "execution_count": 166,
   "id": "22501914",
   "metadata": {},
   "outputs": [],
   "source": [
    "sims= 100000\n",
    "installs = 50\n",
    "fails= 1\n",
    "success= 0\n",
    "outcomes = [fails, success]\n",
    "prob = 1/250"
   ]
  },
  {
   "cell_type": "code",
   "execution_count": 167,
   "id": "270504a4",
   "metadata": {
    "scrolled": true
   },
   "outputs": [
    {
     "data": {
      "text/plain": [
       "array([[1, 1, 1, ..., 1, 1, 1],\n",
       "       [1, 1, 1, ..., 1, 1, 1],\n",
       "       [1, 1, 1, ..., 1, 1, 1],\n",
       "       ...,\n",
       "       [1, 1, 1, ..., 1, 1, 1],\n",
       "       [1, 1, 1, ..., 1, 1, 1],\n",
       "       [1, 1, 1, ..., 1, 1, 1]])"
      ]
     },
     "execution_count": 167,
     "metadata": {},
     "output_type": "execute_result"
    }
   ],
   "source": [
    "install_com = np.random.choice(outcomes, size=(sims, installs), p=[249/250, 1/250])\n",
    "install_com"
   ]
  },
  {
   "cell_type": "code",
   "execution_count": 168,
   "id": "a34ac54e",
   "metadata": {},
   "outputs": [
    {
     "data": {
      "text/plain": [
       "0.81995"
      ]
     },
     "execution_count": 168,
     "metadata": {},
     "output_type": "execute_result"
    }
   ],
   "source": [
    "((install_com < prob).sum(axis=1) == 0).mean()"
   ]
  },
  {
   "cell_type": "markdown",
   "id": "f9fc3609",
   "metadata": {},
   "source": [
    "100 students?"
   ]
  },
  {
   "cell_type": "code",
   "execution_count": 105,
   "id": "e62eb52b",
   "metadata": {},
   "outputs": [
    {
     "data": {
      "text/plain": [
       "0.66949"
      ]
     },
     "execution_count": 105,
     "metadata": {},
     "output_type": "execute_result"
    }
   ],
   "source": [
    "outcomes = tuple(range(1, 251))\n",
    "\n",
    "n_trials = 100\n",
    "n_simulations = 100_000\n",
    "\n",
    "\n",
    "installs = np.random.choice(outcomes, (n_simulations, n_trials))\n",
    "\n",
    "\n",
    "\n",
    "issues = (installs == 1).sum(axis=1)\n",
    "(issues < 1).mean()"
   ]
  },
  {
   "cell_type": "markdown",
   "id": "2bfe3518",
   "metadata": {},
   "source": [
    "What is the probability that we observe an installation issue within the first 150 students that download anaconda?"
   ]
  },
  {
   "cell_type": "code",
   "execution_count": 32,
   "id": "a826d5c7",
   "metadata": {},
   "outputs": [
    {
     "data": {
      "text/plain": [
       "0.45094"
      ]
     },
     "execution_count": 32,
     "metadata": {},
     "output_type": "execute_result"
    }
   ],
   "source": [
    "outcomes = tuple(range(1, 251))\n",
    "\n",
    "n_trials = 150\n",
    "n_simulations = 100_000\n",
    "\n",
    "\n",
    "installs = np.random.choice(outcomes, (n_simulations, n_trials))\n",
    "installs\n",
    "\n",
    "\n",
    "issues = (installs == 1).sum(axis=1)\n",
    "(issues >= 1).mean()"
   ]
  },
  {
   "cell_type": "code",
   "execution_count": 36,
   "id": "3ee6979b",
   "metadata": {},
   "outputs": [],
   "source": [
    "# sims= 100000\n",
    "# installs = 150\n",
    "# fails= 1\n",
    "# success= 0\n",
    "# outcomes = [success, fails]\n"
   ]
  },
  {
   "cell_type": "code",
   "execution_count": 34,
   "id": "d65ad882",
   "metadata": {},
   "outputs": [],
   "source": [
    "# install_com = np.random.choice(outcomes, size=(sims, installs), p=[249/250, 1/250])\n",
    "# install_com"
   ]
  },
  {
   "cell_type": "code",
   "execution_count": 33,
   "id": "68fde7bc",
   "metadata": {},
   "outputs": [],
   "source": [
    "# ((install_com > prob).sum(axis=1) == 1).mean()"
   ]
  },
  {
   "cell_type": "markdown",
   "id": "65831a8f",
   "metadata": {},
   "source": [
    "How likely is it that 450 students all download anaconda without an issue?"
   ]
  },
  {
   "cell_type": "code",
   "execution_count": 169,
   "id": "110b7261",
   "metadata": {},
   "outputs": [
    {
     "data": {
      "text/plain": [
       "0.16558"
      ]
     },
     "execution_count": 169,
     "metadata": {},
     "output_type": "execute_result"
    }
   ],
   "source": [
    "outcomes = tuple(range(1, 251))\n",
    "\n",
    "n_trials = 450\n",
    "n_simulations = 100_000\n",
    "\n",
    "\n",
    "installs = np.random.choice(outcomes, (n_simulations, n_trials))\n",
    "installs\n",
    "\n",
    "\n",
    "issues = (installs == 1).sum(axis=1)\n",
    "(issues < 1).mean()\n"
   ]
  },
  {
   "cell_type": "markdown",
   "id": "ae7b7535",
   "metadata": {},
   "source": [
    "### 7. There's a 70% chance on any given day that there will be at least one food truck at Travis Park. However, you haven't seen a food truck there in 3 days. How unlikely is this?"
   ]
  },
  {
   "cell_type": "code",
   "execution_count": 152,
   "id": "310cb4c3",
   "metadata": {},
   "outputs": [
    {
     "data": {
      "text/plain": [
       "0.02693"
      ]
     },
     "execution_count": 152,
     "metadata": {},
     "output_type": "execute_result"
    }
   ],
   "source": [
    "n_rows= 1_000_000\n",
    "n_cols= 3\n",
    "food_truck=1\n",
    "no_truck=0\n",
    "\n",
    "data= np.random.random((n_rows,n_cols))\n",
    "\n",
    "truck_prob = 0.7\n",
    "\n",
    "((data < truck_prob).sum(axis=1)==0).mean()"
   ]
  },
  {
   "cell_type": "markdown",
   "id": "588f2c37",
   "metadata": {},
   "source": [
    "How likely is it that a food truck will show up sometime this week?"
   ]
  },
  {
   "cell_type": "code",
   "execution_count": 2,
   "id": "576680d6",
   "metadata": {},
   "outputs": [
    {
     "data": {
      "text/plain": [
       "0.000224"
      ]
     },
     "execution_count": 2,
     "metadata": {},
     "output_type": "execute_result"
    }
   ],
   "source": [
    "n_rows= 1_000_000\n",
    "n_cols= 7\n",
    "food_truck=1\n",
    "no_truck=0\n",
    "\n",
    "data= np.random.random((n_rows,n_cols))\n",
    "\n",
    "truck_prob = 0.7\n",
    "\n",
    "((data < truck_prob).sum(axis=1)==0).mean()"
   ]
  },
  {
   "cell_type": "markdown",
   "id": "b52cb64c",
   "metadata": {},
   "source": [
    "### 8. If 23 people are in the same room, what are the odds that two of them share a birthday? "
   ]
  },
  {
   "cell_type": "code",
   "execution_count": 54,
   "id": "1fe14098",
   "metadata": {},
   "outputs": [
    {
     "data": {
      "text/plain": [
       "array([[338, 316, 170, ..., 277,  28, 330],\n",
       "       [237, 235, 306, ..., 258, 116, 261],\n",
       "       [  3,  59, 112, ..., 138, 194, 252],\n",
       "       ...,\n",
       "       [312,  12, 198, ..., 122, 152, 151],\n",
       "       [ 57,  25, 358, ..., 125, 143,  73],\n",
       "       [352,  10, 200, ..., 268,  17, 329]])"
      ]
     },
     "execution_count": 54,
     "metadata": {},
     "output_type": "execute_result"
    }
   ],
   "source": [
    "outcomes = range(0, 365)\n",
    "n_students = 23\n",
    "n_sims = 10000\n",
    "bd = np.random.choice(outcomes, (n_sims, n_students))\n",
    "bd"
   ]
  },
  {
   "cell_type": "code",
   "execution_count": 55,
   "id": "57b9cd72",
   "metadata": {},
   "outputs": [
    {
     "data": {
      "text/plain": [
       "0       23\n",
       "1       23\n",
       "2       22\n",
       "3       22\n",
       "4       23\n",
       "        ..\n",
       "9995    22\n",
       "9996    21\n",
       "9997    23\n",
       "9998    21\n",
       "9999    23\n",
       "Length: 10000, dtype: int64"
      ]
     },
     "execution_count": 55,
     "metadata": {},
     "output_type": "execute_result"
    }
   ],
   "source": [
    "n_unique = pd.DataFrame(bd).nunique(axis=1)\n",
    "n_unique"
   ]
  },
  {
   "cell_type": "code",
   "execution_count": 56,
   "id": "97e85e7a",
   "metadata": {},
   "outputs": [
    {
     "data": {
      "text/plain": [
       "0.4963"
      ]
     },
     "execution_count": 56,
     "metadata": {},
     "output_type": "execute_result"
    }
   ],
   "source": [
    "(n_unique > 22).mean()"
   ]
  },
  {
   "cell_type": "markdown",
   "id": "b84ff956",
   "metadata": {},
   "source": [
    "* What if it's 20 people? "
   ]
  },
  {
   "cell_type": "code",
   "execution_count": 47,
   "id": "6842b739",
   "metadata": {},
   "outputs": [
    {
     "data": {
      "text/plain": [
       "array([[  2,  13, 323, ...,  86, 146, 155],\n",
       "       [120,  28, 323, ..., 156, 312, 350],\n",
       "       [278, 156,  91, ..., 253, 186,  48],\n",
       "       ...,\n",
       "       [339,  99, 113, ...,  27, 109,  96],\n",
       "       [306, 316, 176, ..., 334, 226, 116],\n",
       "       [192, 162, 133, ..., 345, 342, 328]])"
      ]
     },
     "execution_count": 47,
     "metadata": {},
     "output_type": "execute_result"
    }
   ],
   "source": [
    "outcomes = range(0, 365)\n",
    "n_students = 20\n",
    "n_sims = 10000\n",
    "bd = np.random.choice(outcomes, (n_sims, n_students))\n",
    "bd"
   ]
  },
  {
   "cell_type": "code",
   "execution_count": 48,
   "id": "90d8a4a8",
   "metadata": {},
   "outputs": [
    {
     "data": {
      "text/plain": [
       "0       20\n",
       "1       19\n",
       "2       20\n",
       "3       19\n",
       "4       19\n",
       "        ..\n",
       "9995    20\n",
       "9996    19\n",
       "9997    20\n",
       "9998    20\n",
       "9999    20\n",
       "Length: 10000, dtype: int64"
      ]
     },
     "execution_count": 48,
     "metadata": {},
     "output_type": "execute_result"
    }
   ],
   "source": [
    "n_unique = pd.DataFrame(bd).nunique(axis=1)\n",
    "n_unique"
   ]
  },
  {
   "cell_type": "code",
   "execution_count": 51,
   "id": "b7487047",
   "metadata": {},
   "outputs": [
    {
     "data": {
      "text/plain": [
       "0.4151"
      ]
     },
     "execution_count": 51,
     "metadata": {},
     "output_type": "execute_result"
    }
   ],
   "source": [
    "(n_unique <= 19).mean()"
   ]
  },
  {
   "cell_type": "markdown",
   "id": "a7f2721c",
   "metadata": {},
   "source": [
    "* 40?"
   ]
  },
  {
   "cell_type": "code",
   "execution_count": 57,
   "id": "ba25fcc7",
   "metadata": {},
   "outputs": [
    {
     "data": {
      "text/plain": [
       "array([[188, 350, 346, ..., 143, 123, 303],\n",
       "       [ 76, 242, 312, ..., 199, 261,  20],\n",
       "       [230, 341,  32, ..., 259, 355, 304],\n",
       "       ...,\n",
       "       [ 73, 208, 106, ...,  95, 324, 207],\n",
       "       [ 67, 227, 233, ..., 251,  44, 226],\n",
       "       [207, 364, 321, ..., 239, 341,  44]])"
      ]
     },
     "execution_count": 57,
     "metadata": {},
     "output_type": "execute_result"
    }
   ],
   "source": [
    "outcomes = range(0, 365)\n",
    "n_students = 40\n",
    "n_sims = 10000\n",
    "bd = np.random.choice(outcomes, (n_sims, n_students))\n",
    "bd"
   ]
  },
  {
   "cell_type": "code",
   "execution_count": 58,
   "id": "0a3ab1ba",
   "metadata": {},
   "outputs": [
    {
     "data": {
      "text/plain": [
       "0       35\n",
       "1       37\n",
       "2       38\n",
       "3       39\n",
       "4       38\n",
       "        ..\n",
       "9995    39\n",
       "9996    36\n",
       "9997    40\n",
       "9998    38\n",
       "9999    39\n",
       "Length: 10000, dtype: int64"
      ]
     },
     "execution_count": 58,
     "metadata": {},
     "output_type": "execute_result"
    }
   ],
   "source": [
    "n_unique = pd.DataFrame(bd).nunique(axis=1)\n",
    "n_unique"
   ]
  },
  {
   "cell_type": "code",
   "execution_count": 59,
   "id": "9ee42496",
   "metadata": {},
   "outputs": [
    {
     "data": {
      "text/plain": [
       "0.8878"
      ]
     },
     "execution_count": 59,
     "metadata": {},
     "output_type": "execute_result"
    }
   ],
   "source": [
    "(n_unique <= 39).mean()"
   ]
  },
  {
   "cell_type": "code",
   "execution_count": null,
   "id": "e66b520c",
   "metadata": {},
   "outputs": [],
   "source": []
  }
 ],
 "metadata": {
  "kernelspec": {
   "display_name": "Python 3 (ipykernel)",
   "language": "python",
   "name": "python3"
  },
  "language_info": {
   "codemirror_mode": {
    "name": "ipython",
    "version": 3
   },
   "file_extension": ".py",
   "mimetype": "text/x-python",
   "name": "python",
   "nbconvert_exporter": "python",
   "pygments_lexer": "ipython3",
   "version": "3.10.9"
  }
 },
 "nbformat": 4,
 "nbformat_minor": 5
}
